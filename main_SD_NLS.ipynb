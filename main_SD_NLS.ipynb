{
 "cells": [
  {
   "cell_type": "code",
   "execution_count": 1,
   "metadata": {},
   "outputs": [
    {
     "name": "stdout",
     "output_type": "stream",
     "text": [
      "X_bt =  [ 0.60465116 -0.77754304  0.17279686]\n",
      "f(X_bt) =  [ 3.49570235e-05 -9.50148615e-05  7.79861749e-05]\n",
      "X_bbs =  [ 0.60457682 -0.77754266  0.17295938]\n",
      "f(X_bbs) =  [ 6.61955286e-07 -6.45596000e-06  4.24075554e-06]\n",
      "X_bbl =  [ 0.60458463 -0.77754215  0.17294492]\n",
      "f(X_bbl) =  [ 4.31864106e-06 -1.25963802e-05  1.28331153e-05]\n",
      "X_bba =  [ 0.60459743 -0.77754871  0.17292474]\n",
      "f(X_bba) =  [ 2.30151902e-05 -2.65424277e-05  1.54306344e-05]\n",
      "X_rs =  [ 0.60465301 -0.77754569  0.17279016]\n",
      "f(X_rs) =  [ 3.90063215e-05 -1.02508499e-04  7.57175550e-05]\n",
      "X_fs =  [ 0.60457295 -0.77754289  0.17296994]\n",
      "f(X_fs) =  [ 4.87656582e-11  2.77555756e-17 -1.53963509e-11]\n"
     ]
    }
   ],
   "source": [
    "import numpy as np\n",
    "from scipy.optimize import fsolve\n",
    "from my_solvers.solvers.Solver_SD_NLS import Solver_SD_NLS\n",
    "import my_solvers.functions.example as ex\n",
    "\n",
    "sol = Solver_SD_NLS( max_iter = 1e3 , tol = 1e-8 )\n",
    "\n",
    "X0 = np.array([1,0,0])\n",
    "# X0 = np.array([0,1,0])\n",
    "# X0 = np.array([0,0,1])\n",
    "# X0 = np.array([1,1,0])\n",
    "# X0 = np.array([1,0,1])\n",
    "# X0 = np.array([0,1,1])\n",
    "# X0 = np.array([1,1,1])\n",
    "X_bt    = sol.solve( ex.example_2 , X0 , method = \"back_track_iter\" , BT_factor = 0.5 )\n",
    "X_bbs   = sol.solve( ex.example_2 , X0 , method = \"barzilai_borwein_short\" , BT_factor = 0.5 )\n",
    "X_bbl   = sol.solve( ex.example_2 , X0 , method = \"barzilai_borwein_long\"  , BT_factor = 0.5 )\n",
    "X_bba   = sol.solve( ex.example_2 , X0 , method = \"barzilai_borwein_alt\"   , BT_factor = 0.5 )\n",
    "X_rs    = sol.solve( ex.example_2 , X0 , method = \"random_step\"            , BT_factor = 0.5 )\n",
    "X_fs  = fsolve( ex.example_2 , X0 )\n",
    "\n",
    "print( 'X_bt = '       , X_bt )\n",
    "print( 'f(X_bt) = '    , ex.example_2(X_bt) )\n",
    "print( 'X_bbs = '       , X_bbs )\n",
    "print( 'f(X_bbs) = '    , ex.example_2(X_bbs) )\n",
    "print( 'X_bbl = '       , X_bbl )\n",
    "print( 'f(X_bbl) = '    , ex.example_2(X_bbl) )\n",
    "print( 'X_bba = '       , X_bba )\n",
    "print( 'f(X_bba) = '    , ex.example_2(X_bba) )\n",
    "print( 'X_rs = '        , X_rs )\n",
    "print( 'f(X_rs) = '     , ex.example_2(X_rs) )\n",
    "\n",
    "\n",
    "print( 'X_fs = '    , X_fs )\n",
    "print( 'f(X_fs) = ' , ex.example_2(X_fs) )\n"
   ]
  },
  {
   "cell_type": "markdown",
   "metadata": {},
   "source": []
  }
 ],
 "metadata": {
  "kernelspec": {
   "display_name": "Python 3",
   "language": "python",
   "name": "python3"
  },
  "language_info": {
   "codemirror_mode": {
    "name": "ipython",
    "version": 3
   },
   "file_extension": ".py",
   "mimetype": "text/x-python",
   "name": "python",
   "nbconvert_exporter": "python",
   "pygments_lexer": "ipython3",
   "version": "3.12.7"
  }
 },
 "nbformat": 4,
 "nbformat_minor": 2
}
