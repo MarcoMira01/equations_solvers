{
 "cells": [
  {
   "cell_type": "code",
   "execution_count": 1,
   "metadata": {},
   "outputs": [],
   "source": [
    "# import sys\n",
    "# sys.path.append('./my_solvers/solvers/')\n",
    "# sys.path.append('./my_solvers/functions/')\n",
    "\n",
    "from my_solvers.solvers.Solver_Han import Solver_Han\n",
    "from my_solvers.functions.example  import example_1\n",
    "\n",
    "s_Han_fixed = Solver_Han( e = 0.2 , step = [0.01,0.1,0.5] )\n",
    "s_Han_var   = Solver_Han( e = 0.2 , step = 0.05 , step_adpt = True )"
   ]
  },
  {
   "cell_type": "code",
   "execution_count": 2,
   "metadata": {},
   "outputs": [
    {
     "name": "stdout",
     "output_type": "stream",
     "text": [
      "Solver stopped since max number of iterations reached\n",
      "Solver stopped since max number of iterations reached\n",
      "[-0.  1.]\n",
      "[-0.  1.]\n"
     ]
    }
   ],
   "source": [
    "# IMPLEMENT PASS OF ARRAY OF STEPS AND NOT AUTOMATIC CHOICE\n",
    "from numpy.linalg import norm\n",
    "import numpy as np\n",
    "\n",
    "X0 = [ 1 , 1 ]\n",
    "Xstar_fix = s_Han_fixed.solve( example_1 , X0 )\n",
    "Xstar_var = s_Han_var.solve( example_1 , X0 , 1 )\n",
    "\n",
    "print(np.round(Xstar_fix,3))\n",
    "print(np.round(Xstar_var,3))"
   ]
  },
  {
   "cell_type": "markdown",
   "metadata": {},
   "source": []
  }
 ],
 "metadata": {
  "kernelspec": {
   "display_name": "Python 3",
   "language": "python",
   "name": "python3"
  },
  "language_info": {
   "codemirror_mode": {
    "name": "ipython",
    "version": 3
   },
   "file_extension": ".py",
   "mimetype": "text/x-python",
   "name": "python",
   "nbconvert_exporter": "python",
   "pygments_lexer": "ipython3",
   "version": "3.12.7"
  }
 },
 "nbformat": 4,
 "nbformat_minor": 2
}
