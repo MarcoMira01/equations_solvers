{
 "cells": [
  {
   "cell_type": "code",
   "execution_count": 1,
   "metadata": {},
   "outputs": [
    {
     "name": "stdout",
     "output_type": "stream",
     "text": [
      "[[1.01 ]\n",
      " [2.786]\n",
      " [0.684]]\n",
      "[[0.988]\n",
      " [2.792]\n",
      " [0.667]]\n",
      "[[-2.99560526e-04]\n",
      " [-2.35244357e-04]\n",
      " [ 7.64274037e-06]]\n",
      "[[ 0.03169469]\n",
      " [-0.09376253]\n",
      " [ 0.09121923]]\n"
     ]
    }
   ],
   "source": [
    "import numpy as np\n",
    "from my_solvers.solvers.Solver_SD_LS import Solver_SD_LS\n",
    "\n",
    "sol = Solver_SD_LS( max_iter = 1e3 , tol = 1e-8 )\n",
    "\n",
    "A = np.array([[1, 3, -2], [1, 2, 5], [-4, 3, 1]])\n",
    "b = np.array([[8],[10],[5]])\n",
    "X0 = np.array([[0.5],[3],[0.1]])\n",
    "\n",
    "\n",
    "X_ls = sol.solve( (A.T).dot(A) , (A.T).dot(b) , X0 , method = \"lin_search\" )\n",
    "X_cg = sol.solve( (A.T).dot(A) , (A.T).dot(b) , X0 , method = \"conj_grad\" )\n",
    "\n",
    "print(np.round(X_ls,3))\n",
    "print(np.round(X_cg,3))\n",
    "print(A.dot(X_ls)-b)\n",
    "print(A.dot(X_cg)-b)\n",
    "\n",
    "\n"
   ]
  },
  {
   "cell_type": "markdown",
   "metadata": {},
   "source": []
  }
 ],
 "metadata": {
  "kernelspec": {
   "display_name": "Python 3",
   "language": "python",
   "name": "python3"
  },
  "language_info": {
   "codemirror_mode": {
    "name": "ipython",
    "version": 3
   },
   "file_extension": ".py",
   "mimetype": "text/x-python",
   "name": "python",
   "nbconvert_exporter": "python",
   "pygments_lexer": "ipython3",
   "version": "3.12.7"
  }
 },
 "nbformat": 4,
 "nbformat_minor": 2
}
