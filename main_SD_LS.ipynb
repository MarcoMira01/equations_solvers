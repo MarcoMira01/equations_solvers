{
 "cells": [
  {
   "cell_type": "code",
   "execution_count": 4,
   "metadata": {},
   "outputs": [
    {
     "name": "stdout",
     "output_type": "stream",
     "text": [
      "[[-2.99560526e-04]\n",
      " [-2.35244357e-04]\n",
      " [ 7.64274037e-06]]\n",
      "[[0.0000000e+00]\n",
      " [0.0000000e+00]\n",
      " [8.8817842e-16]]\n",
      "[[-6.20992300e-06]\n",
      " [ 1.89400148e-04]\n",
      " [ 1.40155618e-04]]\n",
      "[[-4.91482131e-06]\n",
      " [ 1.07072490e-04]\n",
      " [ 7.99528230e-05]]\n",
      "[[-4.46405778e-05]\n",
      " [-1.55528367e-05]\n",
      " [ 1.51735316e-05]]\n",
      "[[-1.13237173e-05]\n",
      " [ 1.41153282e-04]\n",
      " [ 1.08261499e-04]]\n",
      "[[-1.79352661e-04]\n",
      " [ 1.06414585e-05]\n",
      " [ 4.54667598e-05]]\n"
     ]
    }
   ],
   "source": [
    "import numpy as np\n",
    "from my_solvers.solvers.Solver_SD_LS import Solver_SD_LS\n",
    "\n",
    "sol = Solver_SD_LS( max_iter = 1e3 , tol = 1e-8 )\n",
    "\n",
    "A = np.array([[1, 3, -2], [1, 2, 5], [-4, 3, 1]])\n",
    "b = np.array([[8],[10],[5]])\n",
    "X0 = np.array([[0.5],[3],[0.1]])\n",
    "\n",
    "\n",
    "X_ls  = sol.solve( (A.T).dot(A) , (A.T).dot(b) , X0 , method = \"lin_search\" )\n",
    "X_cg  = sol.solve( (A.T).dot(A) , (A.T).dot(b) , X0 , method = \"conj_grad\" )\n",
    "X_bt  = sol.solve( (A.T).dot(A) , (A.T).dot(b) , X0 , method = \"back_track_iter\" , BT_factor = 0.5 )\n",
    "X_bbs = sol.solve( (A.T).dot(A) , (A.T).dot(b) , X0 , method = \"barzilai_borwein_short\" )\n",
    "X_bbl = sol.solve( (A.T).dot(A) , (A.T).dot(b) , X0 , method = \"barzilai_borwein_long\" )\n",
    "X_bba = sol.solve( (A.T).dot(A) , (A.T).dot(b) , X0 , method = \"barzilai_borwein_alt\" )\n",
    "X_rs  = sol.solve( (A.T).dot(A) , (A.T).dot(b) , X0 , method = \"random_step\" )\n",
    "\n",
    "\n",
    "# print(X_ls)\n",
    "# print(X_cg)\n",
    "# print(X_bt)\n",
    "# print(X_bbs)\n",
    "# print(X_bbl)\n",
    "# print(X_bba)\n",
    "# print(X_rs)\n",
    "print(A.dot(X_ls)-b)\n",
    "print(A.dot(X_cg)-b)\n",
    "print(A.dot(X_bt)-b)\n",
    "print(A.dot(X_bbs)-b)\n",
    "print(A.dot(X_bbl)-b)\n",
    "print(A.dot(X_bba)-b)\n",
    "print(A.dot(X_rs)-b)\n",
    "\n"
   ]
  },
  {
   "cell_type": "markdown",
   "metadata": {},
   "source": []
  }
 ],
 "metadata": {
  "kernelspec": {
   "display_name": "Python 3",
   "language": "python",
   "name": "python3"
  },
  "language_info": {
   "codemirror_mode": {
    "name": "ipython",
    "version": 3
   },
   "file_extension": ".py",
   "mimetype": "text/x-python",
   "name": "python",
   "nbconvert_exporter": "python",
   "pygments_lexer": "ipython3",
   "version": "3.12.7"
  }
 },
 "nbformat": 4,
 "nbformat_minor": 2
}
