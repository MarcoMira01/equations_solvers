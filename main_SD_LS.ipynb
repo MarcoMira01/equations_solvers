{
 "cells": [
  {
   "cell_type": "code",
   "execution_count": 1,
   "metadata": {},
   "outputs": [
    {
     "name": "stdout",
     "output_type": "stream",
     "text": [
      "[[1.01014126]\n",
      " [2.78563384]\n",
      " [0.68367116]]\n",
      "[[1.01021475]\n",
      " [2.78572486]\n",
      " [0.68365412]]\n",
      "[[1.01015512]\n",
      " [2.78565517]\n",
      " [0.68367483]]\n",
      "[[1.01023292]\n",
      " [2.78567971]\n",
      " [0.68366694]]\n",
      "[[-2.99560526e-04]\n",
      " [-2.35244357e-04]\n",
      " [ 7.64274037e-06]]\n",
      "[[ 8.10943379e-05]\n",
      " [-6.49264682e-05]\n",
      " [-3.02948789e-05]]\n",
      "[[-2.29017226e-04]\n",
      " [-1.60390382e-04]\n",
      " [ 1.98432142e-05]]\n",
      "[[-6.18378991e-05]\n",
      " [-7.29428963e-05]\n",
      " [-2.25611938e-04]]\n"
     ]
    }
   ],
   "source": [
    "import numpy as np\n",
    "from my_solvers.solvers.Solver_SD_LS import Solver_SD_LS\n",
    "\n",
    "sol = Solver_SD_LS( max_iter = 1e3 , tol = 1e-8 )\n",
    "\n",
    "A = np.array([[1, 3, -2], [1, 2, 5], [-4, 3, 1]])\n",
    "b = np.array([[8],[10],[5]])\n",
    "X0 = np.array([[0.5],[3],[0.1]])\n",
    "\n",
    "\n",
    "X_ls = sol.solve( (A.T).dot(A) , (A.T).dot(b) , X0 , method = \"lin_search\" )\n",
    "X_cg = sol.solve( (A.T).dot(A) , (A.T).dot(b) , X0 , method = \"conj_grad\" )\n",
    "X_bt = sol.solve( (A.T).dot(A) , (A.T).dot(b) , X0 , method = \"back_track_iter\" , beta = 0.8 )\n",
    "X_bb = sol.solve( (A.T).dot(A) , (A.T).dot(b) , X0 , method = \"barzilai_borwein\" )\n",
    "\n",
    "print(X_ls,)\n",
    "print(X_cg,)\n",
    "print(X_bt)\n",
    "print(X_bb)\n",
    "print(A.dot(X_ls)-b)\n",
    "print(A.dot(X_cg)-b)\n",
    "print(A.dot(X_bt)-b)\n",
    "print(A.dot(X_bb)-b)\n",
    "\n",
    "\n"
   ]
  },
  {
   "cell_type": "markdown",
   "metadata": {},
   "source": []
  }
 ],
 "metadata": {
  "kernelspec": {
   "display_name": "Python 3",
   "language": "python",
   "name": "python3"
  },
  "language_info": {
   "codemirror_mode": {
    "name": "ipython",
    "version": 3
   },
   "file_extension": ".py",
   "mimetype": "text/x-python",
   "name": "python",
   "nbconvert_exporter": "python",
   "pygments_lexer": "ipython3",
   "version": "3.12.7"
  }
 },
 "nbformat": 4,
 "nbformat_minor": 2
}
