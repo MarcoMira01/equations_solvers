{
 "cells": [
  {
   "cell_type": "code",
   "execution_count": null,
   "metadata": {},
   "outputs": [],
   "source": [
    "# Here, we simulate the temperature evolution of a bar of length 0.3m (30cm)\n",
    "# The bar is divided into three main sections of length 0.1m (10cm) with different thermal coefficients\n",
    "# The simulation is performed via finite-difference-method by defining 300 silces of length Delta_x = 0.01m (1cn=m)\n",
    "# Other dimensions of the bar are:\n",
    "#  - height = 0.01m (1cm)\n",
    "#  - depth  = 0.04m (4cm)\n",
    "#\n",
    "# The thermal diffusion is supposed to be homogeneous along y and z axis\n",
    "# The implemented model is then a 1D model"
   ]
  },
  {
   "cell_type": "code",
   "execution_count": null,
   "metadata": {},
   "outputs": [],
   "source": []
  }
 ],
 "metadata": {
  "language_info": {
   "name": "python"
  }
 },
 "nbformat": 4,
 "nbformat_minor": 2
}
