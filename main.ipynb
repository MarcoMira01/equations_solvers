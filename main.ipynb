{
 "cells": [
  {
   "cell_type": "code",
   "execution_count": 1,
   "metadata": {},
   "outputs": [
    {
     "name": "stdout",
     "output_type": "stream",
     "text": [
      "[ 1.25 -1.5 ]\n"
     ]
    }
   ],
   "source": [
    "# import sys\n",
    "# sys.path.append('./my_solvers/solvers/')\n",
    "# sys.path.append('./my_solvers/functions/')\n",
    "\n",
    "from my_solvers.solvers.Solver_Han import Solver_Han\n",
    "from my_solvers.functions.example  import example_1\n",
    "\n",
    "s_Han = Solver_Han( e = 0.2 , step = [0.01,0.1,0.5] )\n",
    "\n",
    "fx = example_1( [ -0.5 , 0 ] )\n",
    "print(fx)"
   ]
  },
  {
   "cell_type": "code",
   "execution_count": 5,
   "metadata": {},
   "outputs": [
    {
     "name": "stdout",
     "output_type": "stream",
     "text": [
      "[-0.  1.]\n"
     ]
    }
   ],
   "source": [
    "# IMPLEMENT PASS OF ARRAY OF STEPS AND NOT AUTOMATIC CHOICE\n",
    "from numpy.linalg import norm\n",
    "import numpy as np\n",
    "\n",
    "X0 = [ 1 , 1 ]\n",
    "Xstar = s_Han.solve( example_1 , X0 )\n",
    "\n",
    "print(np.round(Xstar,3))"
   ]
  },
  {
   "cell_type": "markdown",
   "metadata": {},
   "source": []
  }
 ],
 "metadata": {
  "kernelspec": {
   "display_name": "Python 3",
   "language": "python",
   "name": "python3"
  },
  "language_info": {
   "codemirror_mode": {
    "name": "ipython",
    "version": 3
   },
   "file_extension": ".py",
   "mimetype": "text/x-python",
   "name": "python",
   "nbconvert_exporter": "python",
   "pygments_lexer": "ipython3",
   "version": "3.12.7"
  }
 },
 "nbformat": 4,
 "nbformat_minor": 2
}
