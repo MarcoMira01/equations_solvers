{
 "cells": [
  {
   "cell_type": "code",
   "execution_count": 4,
   "metadata": {},
   "outputs": [],
   "source": [
    "# import sys\n",
    "# sys.path.append('./my_solvers/solvers/')\n",
    "# sys.path.append('./my_solvers/functions/')\n",
    "\n",
    "from my_solvers.solvers.Solver_Han import Solver_Han\n",
    "from my_solvers.functions.example  import example_1\n",
    "\n",
    "s_Han = Solver_Han( step = 0.15 , e = 0.5 )"
   ]
  },
  {
   "cell_type": "code",
   "execution_count": 2,
   "metadata": {},
   "outputs": [
    {
     "name": "stdout",
     "output_type": "stream",
     "text": [
      "[0.5 0.5]\n",
      "[0 0]\n",
      "[0 0]\n"
     ]
    }
   ],
   "source": [
    "# IMPLEMENT PASS OF ARRAY OF STEPS AND NOT AUTOMATIC CHOICE\n",
    "from numpy.linalg import norm\n",
    "import numpy as np\n",
    "\n",
    "X0 = np.array([ 0.5 , 0.5 ])\n",
    "Xstar = s_Han.solve( example_1 , X0 )\n",
    "\n",
    "print(Xstar)\n",
    "print(example_1(Xstar))\n",
    "print(example_1(X0))"
   ]
  },
  {
   "cell_type": "code",
   "execution_count": 10,
   "metadata": {},
   "outputs": [
    {
     "name": "stdout",
     "output_type": "stream",
     "text": [
      "[0 0]\n"
     ]
    }
   ],
   "source": [
    "from numpy.linalg import norm\n",
    "import numpy as np\n",
    "\n",
    "X0 = np.array([ .5 , 0.5 ])\n",
    "\n",
    "fx = example_1(X0)\n",
    "print(fx)"
   ]
  },
  {
   "cell_type": "markdown",
   "metadata": {},
   "source": []
  }
 ],
 "metadata": {
  "kernelspec": {
   "display_name": "Python 3",
   "language": "python",
   "name": "python3"
  },
  "language_info": {
   "codemirror_mode": {
    "name": "ipython",
    "version": 3
   },
   "file_extension": ".py",
   "mimetype": "text/x-python",
   "name": "python",
   "nbconvert_exporter": "python",
   "pygments_lexer": "ipython3",
   "version": "3.12.7"
  }
 },
 "nbformat": 4,
 "nbformat_minor": 2
}
