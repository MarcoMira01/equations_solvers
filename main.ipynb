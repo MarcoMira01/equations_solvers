{
 "cells": [
  {
   "cell_type": "code",
   "execution_count": 1,
   "metadata": {},
   "outputs": [],
   "source": [
    "# import sys\n",
    "# sys.path.append('./my_solvers/solvers/')\n",
    "# sys.path.append('./my_solvers/functions/')\n",
    "\n",
    "from my_solvers.solvers.Solver_Han import Solver_Han\n",
    "from my_solvers.functions.example  import example_1\n",
    "\n",
    "s_Han = Solver_Han( )"
   ]
  },
  {
   "cell_type": "code",
   "execution_count": null,
   "metadata": {},
   "outputs": [
    {
     "name": "stdout",
     "output_type": "stream",
     "text": [
      "Solver stopped since max number of iterations reached\n",
      "[-1.27501134  0.25714286]\n"
     ]
    }
   ],
   "source": [
    "# IMPLEMENT PASS OF ARRAY OF STEPS AND NOT AUTOMATIC CHOICE\n",
    "\n",
    "X0 = [ 1. , 0. ]\n",
    "Xstar = s_Han.solve( example_1 , X0 )\n",
    "\n",
    "print(Xstar)"
   ]
  },
  {
   "cell_type": "markdown",
   "metadata": {},
   "source": []
  }
 ],
 "metadata": {
  "kernelspec": {
   "display_name": "Python 3",
   "language": "python",
   "name": "python3"
  },
  "language_info": {
   "codemirror_mode": {
    "name": "ipython",
    "version": 3
   },
   "file_extension": ".py",
   "mimetype": "text/x-python",
   "name": "python",
   "nbconvert_exporter": "python",
   "pygments_lexer": "ipython3",
   "version": "3.12.7"
  }
 },
 "nbformat": 4,
 "nbformat_minor": 2
}
